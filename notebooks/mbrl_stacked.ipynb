{
 "cells": [
  {
   "cell_type": "code",
   "execution_count": 1,
   "metadata": {},
   "outputs": [],
   "source": [
    "from IPython import display\n",
    "%matplotlib inline\n",
    "import gym\n",
    "import matplotlib as mpl\n",
    "import matplotlib.pyplot as plt\n",
    "import numpy as np\n",
    "import torch\n",
    "import omegaconf\n",
    "import time\n",
    "import torch\n",
    "\n",
    "from torch import nn as nn\n",
    "import torch.nn.functional as F\n",
    "\n",
    "import mbrl.env.cartpole_continuous as cartpole_env\n",
    "import mbrl.env.reward_fns as reward_fns\n",
    "import mbrl.env.termination_fns as termination_fns\n",
    "import mbrl.models as models\n",
    "import mbrl.planning as planning\n",
    "import mbrl.util.common as common_util\n",
    "import mbrl.util as util\n",
    "\n",
    "import tactile_gym.rl_envs\n",
    "from tactile_gym.sb3_helpers.params import import_parameters\n",
    "\n",
    "%load_ext autoreload\n",
    "%autoreload 2\n",
    "\n",
    "mpl.rcParams.update({\"font.size\": 16})\n",
    "\n",
    "device = 'cuda:0' if torch.cuda.is_available() else 'cpu'"
   ]
  },
  {
   "cell_type": "code",
   "execution_count": 2,
   "metadata": {},
   "outputs": [
    {
     "name": "stderr",
     "output_type": "stream",
     "text": [
      "pybullet build time: Mar  8 2021 17:26:24\n"
     ]
    },
    {
     "name": "stdout",
     "output_type": "stream",
     "text": [
      "argv[0]=\n",
      "Loaded EGL 1.5 after reload.\n",
      "GL_VENDOR=NVIDIA Corporation\n",
      "GL_RENDERER=NVIDIA GeForce RTX 3090/PCIe/SSE2\n",
      "GL_VERSION=4.6.0 NVIDIA 495.29.05\n",
      "GL_SHADING_LANGUAGE_VERSION=4.60 NVIDIA\n",
      "Version = 4.6.0 NVIDIA 495.29.05\n",
      "Vendor = NVIDIA Corporation\n",
      "Renderer = NVIDIA GeForce RTX 3090/PCIe/SSE2\n",
      "ven = NVIDIA Corporation\n",
      "ven = NVIDIA Corporation\n"
     ]
    }
   ],
   "source": [
    "# Load the environment \n",
    "algo_name = 'ppo'\n",
    "env_name = 'object_push-v0'\n",
    "rl_params, algo_params, augmentations = import_parameters(env_name, algo_name)\n",
    "rl_params[\"max_ep_len\"] = 1000    \n",
    "rl_params[\"env_modes\"][ 'observation_mode'] = 'tactile_pose_relative_data'\n",
    "rl_params[\"env_modes\"][ 'control_mode'] = 'TCP_position_control'\n",
    "rl_params[\"env_modes\"]['movement_mode'] = 'TyRz'\n",
    "rl_params[\"env_modes\"]['traj_type'] = 'point'\n",
    "rl_params[\"env_modes\"]['task'] = \"goal_pos\"\n",
    "rl_params[\"env_modes\"]['planar_states'] = True\n",
    "rl_params[\"env_modes\"]['use_contact'] = True\n",
    "rl_params[\"env_modes\"]['terminate_early']  = True\n",
    "rl_params[\"env_modes\"]['terminate_terminate_early'] = True\n",
    "\n",
    "rl_params[\"env_modes\"]['rand_init_orn'] = True\n",
    "# rl_params[\"env_modes\"]['rand_init_pos_y'] = True\n",
    "# rl_params[\"env_modes\"]['rand_obj_mass'] = True\n",
    "\n",
    "rl_params[\"env_modes\"]['additional_reward_settings'] = 'john_guide_off_normal'\n",
    "rl_params[\"env_modes\"]['terminated_early_penalty'] =  -500\n",
    "rl_params[\"env_modes\"]['reached_goal_reward'] = 100\n",
    "rl_params[\"env_modes\"]['max_no_contact_steps'] = 40\n",
    "rl_params[\"env_modes\"]['max_tcp_to_obj_orn'] = 30/180 * np.pi\n",
    "rl_params[\"env_modes\"]['importance_obj_goal_pos'] = 1.0\n",
    "rl_params[\"env_modes\"]['importance_obj_goal_orn'] = 1.0\n",
    "rl_params[\"env_modes\"]['importance_tip_obj_orn'] = 1.0\n",
    "\n",
    "rl_params[\"env_modes\"]['mpc_goal_orn_update'] = True\n",
    "rl_params[\"env_modes\"]['goal_orn_update_freq'] = 'every_step'\n",
    "\n",
    "\n",
    "# set limits and goals\n",
    "TCP_lims = np.zeros(shape=(6, 2))\n",
    "TCP_lims[0, 0], TCP_lims[0, 1] = -0.1, 0.4  # x lims\n",
    "TCP_lims[1, 0], TCP_lims[1, 1] = -0.3, 0.3  # y lims\n",
    "TCP_lims[2, 0], TCP_lims[2, 1] = -0.0, 0.0  # z lims\n",
    "TCP_lims[3, 0], TCP_lims[3, 1] = -0.0, 0.0  # roll lims\n",
    "TCP_lims[4, 0], TCP_lims[4, 1] = -0.0, 0.0  # pitch lims\n",
    "TCP_lims[5, 0], TCP_lims[5, 1] = -180 * np.pi / 180, 180 * np.pi / 180  # yaw lims\n",
    "\n",
    "# goal parameter\n",
    "goal_edges = [(0, -1), (0, 1), (1, 0)] # Top bottom and stright\n",
    "# goal_edges = [(1, 0)]\n",
    "goal_x_max = np.float64(TCP_lims[0, 1] * 0.8).item()\n",
    "goal_x_min = 0.0 # np.float64(TCP_lims[0, 0] * 0.6).item()\n",
    "goal_y_max = np.float64(TCP_lims[1, 1] * 0.6).item()\n",
    "goal_y_min = np.float64(TCP_lims[1, 0] * 0.6).item()\n",
    "goal_ranges = [goal_x_min, goal_x_max, goal_y_min, goal_y_max]\n",
    "\n",
    "rl_params[\"env_modes\"]['tcp_lims'] = TCP_lims.tolist()\n",
    "rl_params[\"env_modes\"]['goal_edges'] = goal_edges\n",
    "rl_params[\"env_modes\"]['goal_ranges'] = goal_ranges\n",
    "\n",
    "env_kwargs={\n",
    "    'show_gui':False,\n",
    "    'show_tactile':False,\n",
    "    'states_stacked_len': 4,\n",
    "    'max_steps':rl_params[\"max_ep_len\"],\n",
    "    'image_size':rl_params[\"image_size\"],\n",
    "    'env_modes':rl_params[\"env_modes\"],\n",
    "}\n",
    "\n",
    "# training environment\n",
    "env = gym.make(env_name, **env_kwargs)\n",
    "seed = 0\n",
    "env.seed(seed)\n",
    "rng = np.random.default_rng(seed=0)\n",
    "generator = torch.Generator(device=device)\n",
    "generator.manual_seed(seed)\n",
    "obs_shape = env.observation_space.shape\n",
    "act_shape = env.action_space.shape\n",
    "history_len = env.states_stacked_len\n",
    "step_obs_shape = (obs_shape[-1], )\n",
    "step_act_shape = act_shape\n",
    "stacked_obs_shape = (obs_shape[-1] * history_len, )\n",
    "stacked_act_shape = (history_len * act_shape[-1], )"
   ]
  },
  {
   "cell_type": "code",
   "execution_count": 3,
   "metadata": {},
   "outputs": [
    {
     "name": "stdout",
     "output_type": "stream",
     "text": [
      "(32,)\n",
      "(8,)\n"
     ]
    }
   ],
   "source": [
    "print(stacked_obs_shape)\n",
    "print(stacked_act_shape)"
   ]
  },
  {
   "cell_type": "code",
   "execution_count": 4,
   "metadata": {},
   "outputs": [
    {
     "name": "stdout",
     "output_type": "stream",
     "text": [
      "[[0.000000 0.000000 0.000000 0.000000 0.000000 0.000000 0.000000 0.000000]\n",
      " [0.000000 0.000000 0.000000 0.000000 0.000000 0.000000 0.000000 0.000000]\n",
      " [0.000000 0.000000 0.000000 0.000000 0.000000 0.000000 0.000000 0.000000]\n",
      " [0.000870 0.000002 -0.154928 0.987926 0.000000 0.000000 0.154931\n",
      "  0.987925]]\n",
      "(4, 8)\n",
      "(4, 8)\n",
      "(4, 8)\n",
      "(4, 8)\n"
     ]
    }
   ],
   "source": [
    "print(env.reset())\n",
    "for i in range(4):\n",
    "    obs, _, done, _ = env.step(env.action_space.sample())\n",
    "    print(obs.shape)\n",
    "    # print('latest obs', obs[-1])\n",
    "    if done:\n",
    "        break"
   ]
  },
  {
   "cell_type": "code",
   "execution_count": 6,
   "metadata": {},
   "outputs": [],
   "source": [
    "trial_length = 1000\n",
    "num_trials = 10\n",
    "ensemble_size = 5\n",
    "buffer_size = 10000\n",
    "target_normalised = True\n",
    "using_history_of_obs = True\n",
    "\n",
    "# Everything with \"???\" indicates an option with a missing value.\n",
    "# Our utility functions will fill in these details using the \n",
    "# environment information\n",
    "cfg_dict = {\n",
    "    # dynamics model configuration\n",
    "    \"dynamics_model\": {\n",
    "        \"_target_\": \"mbrl.models.GaussianMLP\",\n",
    "        \"device\": device,\n",
    "        \"num_layers\": 3,\n",
    "        \"ensemble_size\": ensemble_size,\n",
    "        \"hid_size\": 200,\n",
    "        \"in_size\": \"???\",\n",
    "        \"out_size\": \"???\",\n",
    "        \"deterministic\": False,\n",
    "        \"propagation_method\": \"fixed_model\",\n",
    "        # can also configure activation function for GaussianMLP\n",
    "        \"activation_fn_cfg\": {\n",
    "            \"_target_\": \"torch.nn.LeakyReLU\",\n",
    "            \"negative_slope\": 0.01\n",
    "        }\n",
    "    },\n",
    "    # options for training the dynamics model\n",
    "    \"algorithm\": {\n",
    "        \"learned_rewards\": False,\n",
    "        \"target_is_delta\": True,\n",
    "        \"normalize\": True,\n",
    "        \"target_normalize\": target_normalised,\n",
    "        \"dataset_size\": buffer_size,\n",
    "        \"using_history_of_obs\": using_history_of_obs,\n",
    "    },\n",
    "    # these are experiment specific options\n",
    "    \"overrides\": {\n",
    "        \"trial_length\": trial_length,\n",
    "        \"num_steps\": num_trials * trial_length,\n",
    "        \"model_batch_size\": 32,\n",
    "        \"validation_ratio\": 0.05\n",
    "    }\n",
    "}\n",
    "cfg = omegaconf.OmegaConf.create(cfg_dict)"
   ]
  },
  {
   "cell_type": "code",
   "execution_count": 7,
   "metadata": {},
   "outputs": [
    {
     "name": "stderr",
     "output_type": "stream",
     "text": [
      "/home/qt21590/anaconda3/envs/tactile_gym_mbrl/lib/python3.9/site-packages/hydra/utils.py:32: UserWarning: `OmegaConf.is_none()` is deprecated, see https://github.com/omry/omegaconf/issues/547\n",
      "  if OmegaConf.is_none(config):\n"
     ]
    }
   ],
   "source": [
    "# Create a 1-D dynamics model for this environment\n",
    "dynamics_model = common_util.create_one_dim_tr_model(cfg, obs_shape, act_shape)\n",
    "\n",
    "# Create a gym-like environment to encapsulate the model\n",
    "model_env = models.ModelEnvPushing(env, dynamics_model, termination_fn=None, reward_fn=None, generator=generator)"
   ]
  },
  {
   "cell_type": "code",
   "execution_count": 8,
   "metadata": {},
   "outputs": [
    {
     "name": "stdout",
     "output_type": "stream",
     "text": [
      "OneDTransitionRewardModel(\n",
      "  (model): GaussianMLP(\n",
      "    (hidden_layers): Sequential(\n",
      "      (0): Sequential(\n",
      "        (0): EnsembleLinearLayer(num_members=5, in_size=40, out_size=200, bias=True)\n",
      "        (1): LeakyReLU(negative_slope=0.01)\n",
      "      )\n",
      "      (1): Sequential(\n",
      "        (0): EnsembleLinearLayer(num_members=5, in_size=200, out_size=200, bias=True)\n",
      "        (1): LeakyReLU(negative_slope=0.01)\n",
      "      )\n",
      "      (2): Sequential(\n",
      "        (0): EnsembleLinearLayer(num_members=5, in_size=200, out_size=200, bias=True)\n",
      "        (1): LeakyReLU(negative_slope=0.01)\n",
      "      )\n",
      "    )\n",
      "    (mean_and_logvar): EnsembleLinearLayer(num_members=5, in_size=200, out_size=16, bias=True)\n",
      "  )\n",
      ")\n"
     ]
    }
   ],
   "source": [
    "print(dynamics_model)"
   ]
  },
  {
   "cell_type": "code",
   "execution_count": 9,
   "metadata": {},
   "outputs": [
    {
     "name": "stdout",
     "output_type": "stream",
     "text": [
      "# samples stored 1000\n"
     ]
    }
   ],
   "source": [
    "replay_buffer = common_util.create_replay_buffer(cfg, stacked_obs_shape, stacked_act_shape, rng=rng, next_obs_shape=(obs.shape[-1], ))\n",
    "common_util.rollout_agent_trajectories(\n",
    "    env,\n",
    "    1000, # initial exploration steps\n",
    "    planning.RandomAgent(env),\n",
    "    {}, # keyword arguments to pass to agent.act()\n",
    "    replay_buffer=replay_buffer,\n",
    "    trial_length=trial_length,\n",
    "    stacking=using_history_of_obs\n",
    ")\n",
    "\n",
    "print(\"# samples stored\", replay_buffer.num_stored)"
   ]
  },
  {
   "cell_type": "code",
   "execution_count": 10,
   "metadata": {},
   "outputs": [
    {
     "name": "stdout",
     "output_type": "stream",
     "text": [
      "(10000, 32)\n",
      "(10000, 8)\n",
      "(10000, 8)\n"
     ]
    }
   ],
   "source": [
    "print(replay_buffer.obs.shape)\n",
    "print(replay_buffer.action.shape)\n",
    "print(replay_buffer.next_obs.shape)"
   ]
  },
  {
   "cell_type": "code",
   "execution_count": 11,
   "metadata": {},
   "outputs": [
    {
     "name": "stdout",
     "output_type": "stream",
     "text": [
      "Training time:  12.548660516738892\n",
      "Train Loss: -22.78413422902425, Val Loss: 0.7358741164207458\n"
     ]
    },
    {
     "data": {
      "image/png": "[encoded data removed]",
      "text/plain": [
       "<Figure size 864x720 with 2 Axes>"
      ]
     },
     "metadata": {
      "needs_background": "dark"
     },
     "output_type": "display_data"
    }
   ],
   "source": [
    "# Test optimisation iterations for CEM\n",
    "train_losses = []\n",
    "val_scores = []\n",
    "\n",
    "def train_callback(_model, _total_calls, _epoch, tr_loss, val_score, _best_val):\n",
    "    train_losses.append(tr_loss)\n",
    "    val_scores.append(val_score.mean().item())   # this returns val score per ensemble model\n",
    "\n",
    "    \n",
    "# Train model first\n",
    "model_trainer = models.ModelTrainer(dynamics_model, optim_lr= 1e-3, weight_decay=5e-5)\n",
    "dynamics_model.update_normalizer(replay_buffer.get_all())\n",
    "dataset_train, dataset_val = common_util.get_basic_buffer_iterators(\n",
    "    replay_buffer,\n",
    "    batch_size=cfg.overrides.model_batch_size,\n",
    "    val_ratio=cfg.overrides.validation_ratio,\n",
    "    ensemble_size=ensemble_size,\n",
    "    shuffle_each_epoch=True,\n",
    "    bootstrap_permutes=False,  # build bootstrap dataset using sampling with replacement\n",
    ")\n",
    "\n",
    "start_train_time = time.time()\n",
    "model_trainer.train(\n",
    "    dataset_train, \n",
    "    dataset_val=dataset_val, \n",
    "    num_epochs= 200, \n",
    "    patience=50, \n",
    "    callback=train_callback,\n",
    "    silent=True)\n",
    "train_time = time.time() - start_train_time\n",
    "\n",
    "print(\"Training time: \", train_time)\n",
    "print(\"Train Loss: {}, Val Loss: {}\".format(train_losses[-1], val_scores[-1]))\n",
    "\n",
    "fig, ax = plt.subplots(2, 1, figsize=(12, 10))\n",
    "ax[0].plot(train_losses)\n",
    "ax[0].set_xlabel(\"Total training epochs\")\n",
    "ax[0].set_ylabel(\"Training loss (avg. NLL)\")\n",
    "ax[0].xaxis.label.set_color('white')\n",
    "ax[0].yaxis.label.set_color('white')\n",
    "ax[0].tick_params(axis='x', colors='white')\n",
    "ax[0].tick_params(axis='y', colors='white')\n",
    "ax[1].plot(val_scores)\n",
    "ax[1].set_xlabel(\"Total training epochs\")\n",
    "ax[1].set_ylabel(\"Validation score (avg. MSE)\")\n",
    "ax[1].xaxis.label.set_color('white')\n",
    "ax[1].yaxis.label.set_color('white')\n",
    "ax[1].tick_params(axis='x', colors='white')\n",
    "ax[1].tick_params(axis='y', colors='white')\n",
    "plt.show()"
   ]
  },
  {
   "cell_type": "code",
   "execution_count": 12,
   "metadata": {},
   "outputs": [
    {
     "name": "stdout",
     "output_type": "stream",
     "text": [
      "(5, 32, 8)\n",
      "(5, 32, 8)\n",
      "(5, 32, 8)\n",
      "(5, 32, 8)\n",
      "(5, 32, 8)\n",
      "(5, 32, 8)\n",
      "(5, 32, 8)\n",
      "(5, 32, 8)\n",
      "(5, 32, 8)\n",
      "(5, 32, 8)\n",
      "(5, 32, 8)\n",
      "(5, 32, 8)\n",
      "(5, 32, 8)\n",
      "(5, 32, 8)\n",
      "(5, 32, 8)\n",
      "(5, 32, 8)\n",
      "(5, 32, 8)\n",
      "(5, 32, 8)\n",
      "(5, 32, 8)\n",
      "(5, 32, 8)\n",
      "(5, 32, 8)\n",
      "(5, 32, 8)\n",
      "(5, 32, 8)\n",
      "(5, 32, 8)\n",
      "(5, 32, 8)\n",
      "(5, 32, 8)\n",
      "(5, 32, 8)\n",
      "(5, 32, 8)\n",
      "(5, 32, 8)\n",
      "(5, 32, 8)\n",
      "(5, 32, 8)\n",
      "(5, 32, 8)\n",
      "(5, 32, 8)\n",
      "(5, 32, 8)\n",
      "(5, 32, 8)\n",
      "(5, 32, 8)\n",
      "(5, 32, 8)\n",
      "(5, 32, 8)\n",
      "(5, 32, 8)\n",
      "(5, 32, 8)\n",
      "(5, 32, 8)\n",
      "(5, 32, 8)\n",
      "(5, 32, 8)\n",
      "(5, 32, 8)\n",
      "(5, 32, 8)\n",
      "(5, 32, 8)\n",
      "(5, 32, 8)\n",
      "(5, 32, 8)\n",
      "(5, 32, 8)\n",
      "(5, 32, 8)\n",
      "(5, 32, 8)\n",
      "(5, 32, 8)\n",
      "(5, 32, 8)\n",
      "(5, 32, 8)\n",
      "(5, 32, 8)\n",
      "(5, 32, 8)\n",
      "(5, 32, 8)\n",
      "(5, 32, 8)\n",
      "(5, 22, 8)\n",
      "(5, 22, 8)\n"
     ]
    }
   ],
   "source": [
    "for batch in dataset_train:\n",
    "    print(batch.obs.shape)\n",
    "    print(batch.next_obs.shape)"
   ]
  },
  {
   "cell_type": "code",
   "execution_count": 13,
   "metadata": {},
   "outputs": [
    {
     "name": "stdout",
     "output_type": "stream",
     "text": [
      "(32, 8)\n",
      "(32, 8)\n",
      "(18, 8)\n",
      "(18, 8)\n"
     ]
    }
   ],
   "source": [
    "for batch in dataset_val:\n",
    "    print(batch.obs.shape)\n",
    "    print(batch.next_obs.shape)"
   ]
  },
  {
   "cell_type": "code",
   "execution_count": 14,
   "metadata": {},
   "outputs": [
    {
     "name": "stdout",
     "output_type": "stream",
     "text": [
      "(15, 2)\n",
      "(15, 2)\n",
      "torch.Size([5, 15, 2])\n",
      "(8,)\n",
      "(8,)\n",
      "(5, 8)\n",
      "torch.Size([5, 8])\n"
     ]
    }
   ],
   "source": [
    "planning_horizon = 15\n",
    "\n",
    "# Get action sequence from buffer\n",
    "data = replay_buffer.get_all()\n",
    "action_sequences = data.act[0:planning_horizon,:]\n",
    "print(action_sequences.shape)\n",
    "# print(action_sequences[0])\n",
    "action_sequences = action_sequences.reshape(*action_sequences.shape[:1], -1)\n",
    "print(action_sequences.shape)\n",
    "action_sequences = np.tile(action_sequences, (5,1,1)).astype(np.float32)\n",
    "action_sequences = torch.from_numpy(action_sequences)\n",
    "print(action_sequences.shape)\n",
    "\n",
    "# Initialise state and create model input\n",
    "initial_state = data.obs[0]\n",
    "print(initial_state.shape)\n",
    "initial_state = initial_state.reshape(-1)\n",
    "print(initial_state.shape)\n",
    "initial_obs_batch = np.tile(initial_state, (5,1)).astype(np.float32)\n",
    "print(initial_obs_batch.shape)\n",
    "model_state = model_env.reset(initial_obs_batch, return_as_np=False)\n",
    "print(model_state['obs'].shape)\n"
   ]
  },
  {
   "cell_type": "code",
   "execution_count": 15,
   "metadata": {},
   "outputs": [
    {
     "data": {
      "text/plain": [
       "(1000, 8)"
      ]
     },
     "execution_count": 15,
     "metadata": {},
     "output_type": "execute_result"
    }
   ],
   "source": [
    "data.obs.shape"
   ]
  },
  {
   "cell_type": "code",
   "execution_count": 12,
   "metadata": {},
   "outputs": [
    {
     "name": "stdout",
     "output_type": "stream",
     "text": [
      "tensor([ 8.6693e-04,  8.9407e-07, -8.9774e-02], device='cuda:0')\n",
      "tensor([ 8.2699e-04, -1.5664e-05, -9.0519e-02], device='cuda:0')\n",
      "tensor([ 0.0010,  0.0002, -0.0922], device='cuda:0')\n",
      "tensor([ 0.0012, -0.0002, -0.0976], device='cuda:0')\n",
      "tensor([ 0.0011, -0.0002, -0.0997], device='cuda:0')\n",
      "tensor([ 1.1356e-03,  4.3994e-05, -9.9060e-02], device='cuda:0')\n",
      "tensor([ 0.0012, -0.0003, -0.1017], device='cuda:0')\n",
      "tensor([ 0.0012,  0.0002, -0.0974], device='cuda:0')\n",
      "tensor([ 0.0012,  0.0002, -0.1065], device='cuda:0')\n",
      "tensor([ 0.0012,  0.0006, -0.1130], device='cuda:0')\n",
      "tensor([ 0.0013,  0.0004, -0.1192], device='cuda:0')\n",
      "tensor([ 0.0013,  0.0007, -0.1136], device='cuda:0')\n",
      "tensor([ 0.0013,  0.0006, -0.1137], device='cuda:0')\n",
      "tensor([ 0.0015,  0.0008, -0.1115], device='cuda:0')\n",
      "tensor([ 0.0016,  0.0004, -0.1102], device='cuda:0')\n"
     ]
    }
   ],
   "source": [
    "# -------- Test model one set of action sequences from buffer to see exploding -------\n",
    "# states still occur\n",
    "\n",
    "planning_horizon = 15\n",
    "\n",
    "# Get action sequence from buffer\n",
    "data = replay_buffer.get_all()\n",
    "action_sequences = data.act[0:planning_horizon,:]\n",
    "# action_sequences = action_sequences.reshape(*action_sequences.shape[:1], -1)\n",
    "action_sequences = np.tile(action_sequences, (5,1,1)).astype(np.float32)\n",
    "action_sequences = torch.from_numpy(action_sequences)\n",
    "# print(action_sequences.shape)\n",
    "\n",
    "# Initialise state and create model input\n",
    "initial_state = data.obs[0]\n",
    "# initial_state = initial_state.reshape(-1)\n",
    "initial_obs_batch = np.tile(initial_state, (5,1)).astype(np.float32)\n",
    "# print(initial_obs_batch.shape)\n",
    "model_state = model_env.reset(initial_obs_batch, return_as_np=False)\n",
    "# print(model_state['propagation_indices'])\n",
    "\n",
    "\n",
    "batch_size = initial_obs_batch.shape[0]\n",
    "# total_rewards = torch.zeros(batch_size, 1)\n",
    "# terminated = torch.zeros(batch_size, 1, dtype=bool)\n",
    "model_env.reset_batch_goals(batch_size)\n",
    "\n",
    "for time_step in range(planning_horizon):\n",
    "\n",
    "    print(torch.mean(model_state[\"obs\"], 0)[0:3])\n",
    "    action_for_step = action_sequences[:, time_step, :]\n",
    "    action_batch = action_sequences[:, time_step, :]\n",
    "\n",
    "    # ---------------- Use model_env.step -----------------\n",
    "    # _, rewards, dones, model_state = model_env.step(\n",
    "    #     action_batch, model_state, sample=True\n",
    "    # )\n",
    "    # rewards[terminated] = 0\n",
    "    # terminated |= dones\n",
    "    # total_rewards += rewards\n",
    "\n",
    "    # -------------- Use one_dim_tr_model sample -------------\n",
    "    with torch.no_grad():\n",
    "        next_observs, _, _, model_state, = model_env.dynamics_model.sample(\n",
    "            action_batch, model_state, deterministic=False, rng=model_env._rng,\n",
    "        )\n",
    "\n",
    "    # -------------- Use model.sample_1d() --------------------\n",
    "    # with torch.no_grad():\n",
    "    #     obs = model_state[\"obs\"]\n",
    "    #     model_in = model_env.dynamics_model._get_model_input(model_state[\"obs\"], action_batch)\n",
    "    #     next_observs, _ = model_env.dynamics_model.model.sample_1d(\n",
    "    #         model_in, model_state, rng=model_env._rng, deterministic=False\n",
    "    #     )\n",
    "    #     if model_env.dynamics_model.target_normalizer:\n",
    "    #         next_observs = model_env.dynamics_model.target_normalizer.denormalize(next_observs)\n",
    "    #     next_observs += obs[..., -next_observs.shape[-1]:]\n",
    "    #     model_state[\"obs\"] = torch.cat([model_state[\"obs\"], next_observs], dim=obs.ndim - 1)\n",
    "    #     model_state[\"obs\"] = model_state[\"obs\"][..., next_observs.shape[-1]:]\n",
    "\n",
    "\n",
    "        # Check if concat and removing has been done correctly\n",
    "        # print(model_state[\"obs\"][-1, -8:] == next_observs[-1, :])\n",
    "        # print(model_state[\"obs\"].shape == obs.shape)\n"
   ]
  },
  {
   "cell_type": "code",
   "execution_count": 12,
   "metadata": {},
   "outputs": [],
   "source": [
    "agent_cfg = omegaconf.OmegaConf.create({\n",
    "    # this class evaluates many trajectories and picks the best one\n",
    "    \"_target_\": \"mbrl.planning.TrajectoryOptimizerAgent\",\n",
    "    \"planning_horizon\": 15,\n",
    "    \"replan_freq\": 1,\n",
    "    \"verbose\": False,\n",
    "    \"action_lb\": \"???\",\n",
    "    \"action_ub\": \"???\",\n",
    "    # this is the optimizer to generate and choose a trajectory\n",
    "    \"optimizer_cfg\": {\n",
    "        \"_target_\": \"mbrl.planning.CEMOptimizer\",\n",
    "        \"num_iterations\": 5,\n",
    "        \"elite_ratio\": 0.1,\n",
    "        \"population_size\": 500,\n",
    "        \"alpha\": 0.1,\n",
    "        \"device\": device,\n",
    "        \"lower_bound\": \"???\",\n",
    "        \"upper_bound\": \"???\",\n",
    "        \"return_mean_elites\": True,\n",
    "        \"clipped_normal\": False\n",
    "    }\n",
    "})\n",
    "\n",
    "agent = planning.create_trajectory_optim_agent_for_model(\n",
    "    model_env,\n",
    "    agent_cfg,\n",
    "    num_particles=20\n",
    ")"
   ]
  },
  {
   "cell_type": "code",
   "execution_count": 13,
   "metadata": {},
   "outputs": [
    {
     "name": "stdout",
     "output_type": "stream",
     "text": [
      "(1000, 2)\n"
     ]
    }
   ],
   "source": [
    "act = np.zeros(2)\n",
    "initial_action_batch = np.tile(act, (1000,1)).astype(np.float32)\n",
    "print(initial_action_batch.shape)"
   ]
  },
  {
   "cell_type": "code",
   "execution_count": 19,
   "metadata": {},
   "outputs": [
    {
     "name": "stdout",
     "output_type": "stream",
     "text": [
      "Iteration 0, best value tensor([-23.8180], device='cuda:0')\n",
      "Iteration 1, best value tensor([-23.6649], device='cuda:0')\n",
      "Iteration 2, best value tensor([-23.4310], device='cuda:0')\n",
      "Iteration 3, best value tensor([-23.3728], device='cuda:0')\n",
      "Iteration 4, best value tensor([-23.2821], device='cuda:0')\n",
      "Iteration 5, best value tensor([-23.2466], device='cuda:0')\n",
      "Iteration 6, best value tensor([-23.1310], device='cuda:0')\n",
      "Iteration 7, best value tensor([-23.1205], device='cuda:0')\n",
      "Iteration 8, best value tensor([-23.0789], device='cuda:0')\n",
      "Iteration 9, best value tensor([-23.1476], device='cuda:0')\n"
     ]
    },
    {
     "data": {
      "text/plain": [
       "tensor([[-0.0502, -0.2013],\n",
       "        [-0.0165,  0.0540],\n",
       "        [-0.1710,  0.0367],\n",
       "        [-0.1837,  0.0654],\n",
       "        [-0.1875,  0.0389],\n",
       "        [-0.1844,  0.1011],\n",
       "        [-0.1335,  0.0795],\n",
       "        [-0.1671,  0.0501],\n",
       "        [-0.1003,  0.0594],\n",
       "        [-0.1619,  0.0163],\n",
       "        [-0.0752,  0.0452],\n",
       "        [-0.1247,  0.0524],\n",
       "        [-0.0615,  0.0414],\n",
       "        [-0.0432, -0.0076],\n",
       "        [ 0.0132,  0.0190]], device='cuda:0')"
      ]
     },
     "execution_count": 19,
     "metadata": {},
     "output_type": "execute_result"
    }
   ],
   "source": [
    "planning_horizon = agent.optimizer.horizon\n",
    "\n",
    "obs = env.reset()\n",
    "obs = obs.reshape(-1)\n",
    "act = np.zeros(stacked_act_shape)\n",
    "agent.reset()\n",
    "def trajectory_eval_fn(action_sequences):\n",
    "    return model_env.evaluate_action_sequences(action_sequences, obs, 20, act)\n",
    "\n",
    "# Create initial solutions from bounds\n",
    "action_lb = env.action_space.low.tolist()\n",
    "action_ub = env.action_space.high.tolist()\n",
    "initial_solution = (\n",
    "            ((torch.tensor(action_lb) + torch.tensor(action_ub)) / 2)\n",
    "            .float().to(device)\n",
    "        )\n",
    "initial_solution = initial_solution.repeat((planning_horizon, 1))\n",
    "\n",
    "# # Create random initial solutions\n",
    "# initial_solution = torch.from_numpy(np.array([env.action_space.sample() for _ in range(15)])).float()\n",
    "\n",
    "def cem_callback(population, values, i):\n",
    "    best_values, elite_idx = values.topk(1)\n",
    "    print(\"Iteration {}, best value {}\".format(i, best_values))\n",
    "\n",
    "agent.optimizer.optimizer.num_iterations  = 10\n",
    "# agent.optimizer.optimizer.elite_ratio =\n",
    "# agent.optimizer.optimizer.population_size = \n",
    "\n",
    "# Optimise\n",
    "agent.optimizer.optimizer.optimize(\n",
    "            trajectory_eval_fn,\n",
    "            x0=initial_solution,\n",
    "            callback=cem_callback,\n",
    "        )"
   ]
  },
  {
   "cell_type": "code",
   "execution_count": 20,
   "metadata": {},
   "outputs": [
    {
     "name": "stdout",
     "output_type": "stream",
     "text": [
      "deque([array([0.000000, 0.000000]), array([0.000000, 0.000000]), array([0.000000, 0.000000]), array([0.000000, 0.000000])], maxlen=4)\n",
      "deque([array([0.000000, 0.000000]), array([0.000000, 0.000000]), array([0.000000, 0.000000]), array([-0.054634, -0.196153], dtype=float32)], maxlen=4)\n"
     ]
    }
   ],
   "source": [
    "from collections import deque\n",
    "\n",
    "obs = env.reset()    \n",
    "agent.reset()\n",
    "stacked_act = deque(np.zeros((env.states_stacked_len, *env.action_space.shape)), maxlen=env.states_stacked_len)\n",
    "print(stacked_act)\n",
    "next_obs, reward, done, info = common_util.step_env_and_add_to_buffer_stacked(\n",
    "    env, obs, agent, {}, replay_buffer, stacked_action=stacked_act)\n",
    "print(stacked_act)"
   ]
  }
 ],
 "metadata": {
  "kernelspec": {
   "display_name": "tactile_gym_mbrl",
   "language": "python",
   "name": "python3"
  },
  "language_info": {
   "codemirror_mode": {
    "name": "ipython",
    "version": 3
   },
   "file_extension": ".py",
   "mimetype": "text/x-python",
   "name": "python",
   "nbconvert_exporter": "python",
   "pygments_lexer": "ipython3",
   "version": "3.9.12"
  },
  "orig_nbformat": 4,
  "vscode": {
   "interpreter": {
    "hash": "288c20f4f30562b85a793c8b692fd9c626a3a2ddfa32fea47b77030b2eed9a18"
   }
  }
 },
 "nbformat": 4,
 "nbformat_minor": 2
}
