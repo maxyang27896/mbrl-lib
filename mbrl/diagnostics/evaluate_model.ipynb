{
 "cells": [
  {
   "cell_type": "code",
   "execution_count": null,
   "metadata": {},
   "outputs": [],
   "source": [
    "from IPython import display\n",
    "import argparse\n",
    "import cv2\n",
    "import gym\n",
    "import matplotlib as mpl\n",
    "import matplotlib.pyplot as plt\n",
    "import numpy as np\n",
    "import pandas as pd\n",
    "import os, sys, shutil\n",
    "import torch\n",
    "import omegaconf\n",
    "import time\n",
    "\n",
    "import mbrl.env.cartpole_continuous as cartpole_env\n",
    "import mbrl.env.reward_fns as reward_fns\n",
    "import mbrl.env.termination_fns as termination_fns\n",
    "import mbrl.models as models\n",
    "import mbrl.planning as planning\n",
    "import mbrl.util.common as common_util\n",
    "import mbrl.util as util\n",
    "\n",
    "import tactile_gym.rl_envs\n",
    "from tactile_gym.sb3_helpers.params import import_parameters\n",
    "from mbrl.util.plot_and_save_push_data import plot_and_save_push_plots\n",
    "\n",
    "from pyvirtualdisplay import Display\n",
    "from tactile_gym.sb3_helpers.params import import_parameters\n",
    "from tactile_gym.rl_envs.nonprehensile_manipulation.object_push.object_push_env import get_states_from_obs\n",
    "\n",
    "_display = Display(visible=False, size=(1400, 900))\n",
    "_ = _display.start()\n",
    "device = 'cuda:0' if torch.cuda.is_available() else 'cpu'\n"
   ]
  },
  {
   "cell_type": "code",
   "execution_count": null,
   "metadata": {},
   "outputs": [],
   "source": [
    "    # model_filename = 'training_model'\n",
    "    # model_number = 50\n",
    "    # work_dir = os.path.join(os.getcwd(), model_filename)\n",
    "    work_dir = r\"/home/qt21590/Documents/Projects/tactile_gym_mbrl/training_model/stochastic_icem_H25\"\n",
    "    model_dir = os.path.join(work_dir, 'model_trial_{}'.format(model_number))\n",
    "    evaluation_result_directory = os.path.join(work_dir, \"evaluation_result_model_{}\".format(model_number))\n",
    "\n",
    "    # work_dir = r\"/home/qt21590/Documents/Projects/tactile_gym_mbrl/training_model/random_goal_update_orn_john_guide_off\"\n",
    "    # model_dir = work_dir\n",
    "    # evaluation_result_directory = os.path.join(work_dir, \"evaluation_result\")\n",
    "\n",
    "    if not os.path.exists(evaluation_result_directory):\n",
    "        os.mkdir(evaluation_result_directory)\n",
    "    else:\n",
    "        for filename in os.listdir(evaluation_result_directory):\n",
    "            file_path = os.path.join(evaluation_result_directory, filename)\n",
    "            try:\n",
    "                if os.path.isfile(file_path) or os.path.islink(file_path):\n",
    "                    os.unlink(file_path)\n",
    "                elif os.path.isdir(file_path):\n",
    "                    shutil.rmtree(file_path)\n",
    "            except Exception as e:\n",
    "                print('Failed to delete %s. Reason: %s' % (file_path, e))\n",
    "\n",
    "    # Load the environment \n",
    "    env_name = 'object_push-v0'\n",
    "    env_kwargs_file = 'env_kwargs'\n",
    "    env_kwargs_dir = os.path.join(work_dir, env_kwargs_file)\n",
    "    env_kwargs = omegaconf.OmegaConf.load(env_kwargs_dir)\n",
    "    env_kwargs[\"env_modes\"]['eval_mode'] = True\n",
    "    env_kwargs[\"env_modes\"]['eval_num'] = num_test_trials\n",
    "\n",
    "    env = gym.make(env_name, **env_kwargs)\n",
    "    seed = 0\n",
    "    env.seed(seed)\n",
    "    rng = np.random.default_rng(seed=0)\n",
    "    generator = torch.Generator(device=device)\n",
    "    generator.manual_seed(seed)\n",
    "    obs_shape = env.observation_space.shape\n",
    "    act_shape = env.action_space.shape\n"
   ]
  }
 ],
 "metadata": {
  "kernelspec": {
   "display_name": "Python 3.9.12 ('tactile_gym_mbrl')",
   "language": "python",
   "name": "python3"
  },
  "language_info": {
   "name": "python",
   "version": "3.9.12"
  },
  "orig_nbformat": 4,
  "vscode": {
   "interpreter": {
    "hash": "288c20f4f30562b85a793c8b692fd9c626a3a2ddfa32fea47b77030b2eed9a18"
   }
  }
 },
 "nbformat": 4,
 "nbformat_minor": 2
}
